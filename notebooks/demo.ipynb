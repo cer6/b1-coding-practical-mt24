{
 "cells": [
  {
   "cell_type": "code",
   "execution_count": 1,
   "metadata": {},
   "outputs": [],
   "source": [
    "# Add relevant Jupyter notebook extensions "
   ]
  },
  {
   "cell_type": "code",
   "execution_count": null,
   "metadata": {},
   "outputs": [],
   "source": [
    "# You can double-check your Python path like this...\n",
    "import sys  \n",
    "sys.path.append('C:\\\\Users\\\\camer\\\\Documents\\\\Work\\\\Balliol\\\\Year 3\\\\B1\\\\Scientific Coding\\\\Practical\\\\b1-coding-practical-mt24\\\\uuv_mission')\n",
    "print(sys.path)"
   ]
  },
  {
   "cell_type": "markdown",
   "metadata": {},
   "source": [
    "# Simulate closed-loop\n",
    "After implementing your control functionality, you can simulate the closed-loop with code that looks something like this..."
   ]
  },
  {
   "cell_type": "code",
   "execution_count": null,
   "metadata": {},
   "outputs": [],
   "source": [
    "# Import relevant modules\n",
    "import terrain\n",
    "import dynamic\n",
    "import control\n",
    "\n",
    "KP = 0.15\n",
    "KD = 0.6\n",
    "sub = dynamic.Submarine()\n",
    "controller = control.PDController(KP,KD)\n",
    "# Instantiate your controller (depending on your implementation)\n",
    "closed_loop = dynamic.ClosedLoop(sub, controller)\n",
    "mission = dynamic.Mission.from_csv(\"C:\\\\Users\\\\camer\\\\Documents\\\\Work\\\\Balliol\\\\Year 3\\\\B1\\\\Scientific Coding\\\\Practical\\\\b1-coding-practical-mt24\\\\data\\\\mission.csv\") # You must implement this method in the Mission class\n",
    "\n",
    "trajectory = closed_loop.simulate_with_random_disturbances(mission)\n",
    "trajectory.plot_completed_mission(mission)"
   ]
  }
 ],
 "metadata": {
  "kernelspec": {
   "display_name": ".venv",
   "language": "python",
   "name": "python3"
  },
  "language_info": {
   "codemirror_mode": {
    "name": "ipython",
    "version": 3
   },
   "file_extension": ".py",
   "mimetype": "text/x-python",
   "name": "python",
   "nbconvert_exporter": "python",
   "pygments_lexer": "ipython3",
   "version": "3.11.9"
  }
 },
 "nbformat": 4,
 "nbformat_minor": 2
}
